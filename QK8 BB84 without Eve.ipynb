{
 "cells": [
  {
   "cell_type": "markdown",
   "id": "25202f22",
   "metadata": {},
   "source": [
    "QKD - BB4 Code"
   ]
  },
  {
   "cell_type": "markdown",
   "id": "875a5bd5",
   "metadata": {},
   "source": [
    "Downloading Modules"
   ]
  },
  {
   "cell_type": "code",
   "execution_count": 1,
   "id": "55caa543",
   "metadata": {},
   "outputs": [],
   "source": [
    "!pip install cirq --quiet\n",
    "import cirq"
   ]
  },
  {
   "cell_type": "markdown",
   "id": "9179c768",
   "metadata": {},
   "source": [
    "Phase 1- Sending "
   ]
  },
  {
   "cell_type": "markdown",
   "id": "d4bd4da4",
   "metadata": {},
   "source": [
    "List of Variables and thier uses \n",
    "\n",
    "no_of_qubits - It will store the number of qubits, that will be selected by Alice. The will initally be in classical states later convered into Quantum by Polarization.\n",
    "alice_qubits - This is a list in which all Qubits are stored\n",
    "selecting_qubits - This will store the qubits in iteration\n",
    "alice_basis - This is a list where all Basis (Polarization) will be stored\n",
    "selecting_basis - This will store the basis (polarization) of qubits"
   ]
  },
  {
   "cell_type": "code",
   "execution_count": 2,
   "id": "afcbc4d0",
   "metadata": {},
   "outputs": [
    {
     "name": "stdout",
     "output_type": "stream",
     "text": [
      "This is the list of Qubits that Alice will send\n",
      "[0, 1, 0, 1, 0]\n",
      "\n",
      "Now select Basis of measurement - if you want it to be Rectilinear (R) or Diagonal (D)\n",
      "This is the list of Bases that Alice will use to send her Qubits\n",
      "['R', 'D', 'R', 'D', 'D']\n"
     ]
    }
   ],
   "source": [
    "no_of_qubits = int(input(\"Enter the no of Qubits: \"))\n",
    "alice_qubits = []\n",
    "\n",
    "for i in range(no_of_qubits):\n",
    "    selecting_qubits = int(input('Enter every Qubit (0 or 1): '))\n",
    "    if selecting_qubits == 0 or selecting_qubits == 1:\n",
    "        alice_qubits.append(selecting_qubits)\n",
    "    else:\n",
    "        print(\"Enter a valid Qubit\")\n",
    "        break\n",
    "\n",
    "print(\"This is the list of Qubits that Alice will send\")\n",
    "print(alice_qubits)\n",
    "\n",
    "print(\"\\nNow select Basis of measurement - if you want it to be Rectilinear (R) or Diagonal (D)\")\n",
    "alice_basis = []\n",
    "\n",
    "for i in range(no_of_qubits):\n",
    "    selecting_basis = input(\"Enter the polarization of Alice's Qubit (R or D): \").upper()  # Fixed: assign result back\n",
    "    if selecting_basis == \"R\" or selecting_basis == \"D\":\n",
    "        alice_basis.append(selecting_basis)\n",
    "    else:\n",
    "        print(\"Enter a valid Basis\")\n",
    "        break\n",
    "\n",
    "print(\"This is the list of Bases that Alice will use to send her Qubits\")\n",
    "print(alice_basis)"
   ]
  },
  {
   "cell_type": "markdown",
   "id": "7f595716",
   "metadata": {},
   "source": [
    "Applying Gates in Alice's Qubits"
   ]
  },
  {
   "cell_type": "code",
   "execution_count": 3,
   "id": "4aabe7cf",
   "metadata": {},
   "outputs": [
    {
     "name": "stdout",
     "output_type": "stream",
     "text": [
      "Final circuit:\n",
      "1: ───X───H───\n",
      "\n",
      "3: ───X───H───\n",
      "\n",
      "4: ───H───────\n",
      "[cirq.LineQubit(0), cirq.LineQubit(1), cirq.LineQubit(2), cirq.LineQubit(3), cirq.LineQubit(4)]\n"
     ]
    }
   ],
   "source": [
    "qubits = []\n",
    "for i in range(no_of_qubits):\n",
    "    qubit = cirq.LineQubit(i)\n",
    "    qubits.append(qubit)\n",
    "\n",
    "circuit = cirq.Circuit()\n",
    "\n",
    "# Bit preparation: set |1> when Alice's bit is 1\n",
    "for i in range(no_of_qubits):\n",
    "    if alice_qubits[i] == 1:\n",
    "        circuit.append(cirq.X(qubits[i]))\n",
    "\n",
    "# Basis selection: R = no-op, D = H\n",
    "for i in range(no_of_qubits):\n",
    "    if alice_basis[i] == 'R':\n",
    "        pass\n",
    "    elif alice_basis[i] == 'D':\n",
    "        circuit.append(cirq.H(qubits[i]))\n",
    "\n",
    "print(\"Final circuit:\")\n",
    "print(circuit)\n",
    "print(qubits)"
   ]
  },
  {
   "cell_type": "markdown",
   "id": "ea547b44",
   "metadata": {},
   "source": [
    "Phase 2 - Receiving"
   ]
  },
  {
   "cell_type": "code",
   "execution_count": 4,
   "id": "57753bbb",
   "metadata": {},
   "outputs": [
    {
     "name": "stdout",
     "output_type": "stream",
     "text": [
      "Bob's turn to choose measurement basis\n",
      "This is the list of Bases that Bob will use to measure\n",
      "['D', 'D', 'R', 'D', 'R']\n"
     ]
    }
   ],
   "source": [
    "print(\"Bob's turn to choose measurement basis\")\n",
    "bob_basis = []\n",
    "\n",
    "for i in range(no_of_qubits):\n",
    "    selecting_basis = input(\"Enter Bob's measurement basis (R or D): \").upper()\n",
    "    if selecting_basis == \"R\" or selecting_basis == \"D\":\n",
    "        bob_basis.append(selecting_basis)\n",
    "    else:\n",
    "        print(\"Enter a valid Basis\")\n",
    "        break\n",
    "\n",
    "print(\"This is the list of Bases that Bob will use to measure\")\n",
    "print(bob_basis)"
   ]
  },
  {
   "cell_type": "markdown",
   "id": "4cd59187",
   "metadata": {},
   "source": [
    "Applying Gates in Bob's Qubits"
   ]
  },
  {
   "cell_type": "code",
   "execution_count": 5,
   "id": "ff93b08d",
   "metadata": {},
   "outputs": [
    {
     "name": "stdout",
     "output_type": "stream",
     "text": [
      "\n",
      "Bob's basis used:\n",
      "['D', 'D', 'R', 'D', 'R']\n",
      "\n",
      "Bob's measurement results:\n",
      "[1, 1, 0, 1, 1]\n"
     ]
    }
   ],
   "source": [
    "# Bob basis rotation before Z-measurement: R = no-op, D = H\n",
    "for i in range(no_of_qubits):\n",
    "    if bob_basis[i] == 'R':\n",
    "        pass\n",
    "    elif bob_basis[i] == 'D':\n",
    "        circuit.append(cirq.H(qubits[i]))\n",
    "\n",
    "circuit.append(cirq.measure(*qubits, key='bob_result'))\n",
    "\n",
    "simulator = cirq.Simulator()\n",
    "result = simulator.run(circuit, repetitions=1)\n",
    "\n",
    "bob_measurements = []\n",
    "measurements = result.measurements['bob_result'][0]\n",
    "for i in range(no_of_qubits):\n",
    "    bob_measurements.append(int(measurements[i]))\n",
    "\n",
    "print(\"\\nBob's basis used:\")\n",
    "print(bob_basis)\n",
    "print(\"\\nBob's measurement results:\")\n",
    "print(bob_measurements)"
   ]
  },
  {
   "cell_type": "markdown",
   "id": "576ccedf",
   "metadata": {},
   "source": [
    "Phase 3 - Comparison "
   ]
  },
  {
   "cell_type": "code",
   "execution_count": 6,
   "id": "42535838",
   "metadata": {},
   "outputs": [
    {
     "name": "stdout",
     "output_type": "stream",
     "text": [
      "\n",
      "Bases matched: 3\n",
      "Bases not matched: 2\n",
      "\n",
      "Alice's shared key:\n",
      "[1, 0, 1]\n",
      "\n",
      "Bob's shared key:\n",
      "[1, 0, 1]\n"
     ]
    }
   ],
   "source": [
    "shared_key_alice = []\n",
    "shared_key_bob = []\n",
    "matched_count = 0\n",
    "not_matched_count = 0\n",
    "\n",
    "for i in range(no_of_qubits):\n",
    "    if alice_basis[i] == bob_basis[i]:\n",
    "        shared_key_alice.append(alice_qubits[i])\n",
    "        shared_key_bob.append(bob_measurements[i])\n",
    "        matched_count = matched_count + 1\n",
    "    else:\n",
    "        not_matched_count = not_matched_count + 1\n",
    "\n",
    "print(\"\\nBases matched:\", matched_count)\n",
    "print(\"Bases not matched:\", not_matched_count)\n",
    "print(\"\\nAlice's shared key:\")\n",
    "print(shared_key_alice)\n",
    "print(\"\\nBob's shared key:\")\n",
    "print(shared_key_bob)"
   ]
  }
 ],
 "metadata": {
  "kernelspec": {
   "display_name": "base",
   "language": "python",
   "name": "python3"
  },
  "language_info": {
   "codemirror_mode": {
    "name": "ipython",
    "version": 3
   },
   "file_extension": ".py",
   "mimetype": "text/x-python",
   "name": "python",
   "nbconvert_exporter": "python",
   "pygments_lexer": "ipython3",
   "version": "3.12.7"
  }
 },
 "nbformat": 4,
 "nbformat_minor": 5
}
