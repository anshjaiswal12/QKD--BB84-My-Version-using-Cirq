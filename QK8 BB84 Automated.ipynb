{
  "cells": [
    {
      "cell_type": "markdown",
      "metadata": {},
      "source": [
        "QKD - BB84 Automated (with optional Eve)\n"
      ]
    },
    {
      "cell_type": "markdown",
      "metadata": {},
      "source": [
        "Install necessary libraries (quietly)\n"
      ]
    },
    {
      "cell_type": "code",
      "execution_count": null,
      "metadata": {},
      "outputs": [],
      "source": [
        "%pip install cirq --quiet\n",
        "import random\n",
        "import cirq\n"
      ]
    },
    {
      "cell_type": "markdown",
      "metadata": {},
      "source": [
        "Generate random bits and bases\n"
      ]
    },
    {
      "cell_type": "code",
      "execution_count": null,
      "metadata": {},
      "outputs": [],
      "source": [
        "# Parameters\n",
        "num_qubits = 16  # you can change this number to any positive integer\n",
        "\n",
        "# Only user option: enable/disable Eve\n",
        "include_eve = input(\"Include Eve? (Y/N): \").strip().upper()\n",
        "if include_eve not in (\"Y\", \"N\"):\n",
        "    raise ValueError(\"Enter Y or N for including Eve.\")\n",
        "\n",
        "# Randomly generate Alice's bits and bases\n",
        "alice_bits = [random.choice([0, 1]) for _ in range(num_qubits)]\n",
        "alice_bases = [random.choice([\"R\", \"D\"]) for _ in range(num_qubits)]\n",
        "\n",
        "# Randomly generate Bob's bases\n",
        "bob_bases = [random.choice([\"R\", \"D\"]) for _ in range(num_qubits)]\n",
        "\n",
        "eve_bases = [random.choice([\"R\", \"D\"]) for _ in range(num_qubits)] if include_eve == \"Y\" else None\n",
        "\n",
        "print(\"Phase 1 - Sending\")\n",
        "print(\"Alice bits:\", alice_bits)\n",
        "print(\"Alice bases:\", alice_bases)\n",
        "print(\"Bob bases:\", bob_bases)\n",
        "if include_eve == \"Y\":\n",
        "    print(\"Eve bases:\", eve_bases)\n"
      ]
    },
    {
      "cell_type": "markdown",
      "metadata": {},
      "source": [
        "Simulate Alice’s encoding and Bob’s measurement\n"
      ]
    },
    {
      "cell_type": "code",
      "execution_count": null,
      "metadata": {},
      "outputs": [],
      "source": [
        "# Build qubits and circuit\n",
        "qubits = [cirq.LineQubit(i) for i in range(num_qubits)]\n",
        "circuit = cirq.Circuit()\n",
        "\n",
        "# Alice encodes bits\n",
        "for i in range(num_qubits):\n",
        "    if alice_bits[i] == 1:\n",
        "        circuit.append(cirq.X(qubits[i]))\n",
        "    if alice_bases[i] == 'D':\n",
        "        circuit.append(cirq.H(qubits[i]))\n",
        "\n",
        "# Optional Eve intercept-resend\n",
        "if include_eve == 'Y':\n",
        "    for i in range(num_qubits):\n",
        "        if eve_bases[i] == 'D':\n",
        "            circuit.append(cirq.H(qubits[i]))\n",
        "        circuit.append(cirq.measure(qubits[i], key=f'e{i}'))\n",
        "        if eve_bases[i] == 'D':\n",
        "            circuit.append(cirq.H(qubits[i]))\n",
        "\n",
        "print(\"Phase 2 - Receiving\")\n",
        "\n",
        "# Bob rotates to his basis then measures\n",
        "for i in range(num_qubits):\n",
        "    if bob_bases[i] == 'D':\n",
        "        circuit.append(cirq.H(qubits[i]))\n",
        "\n",
        "circuit.append(cirq.measure(*qubits, key='bob'))\n",
        "\n",
        "sim = cirq.Simulator()\n",
        "res = sim.run(circuit, repetitions=1)\n",
        "\n",
        "bob_bits = [int(res.measurements['bob'][0][i]) for i in range(num_qubits)]\n",
        "\n",
        "print(\"Bob bits:\", bob_bits)\n"
      ]
    },
    {
      "cell_type": "markdown",
      "metadata": {},
      "source": [
        "(Optional) Simulate Eve’s interference\n"
      ]
    },
    {
      "cell_type": "markdown",
      "metadata": {},
      "source": [
        "Compare keys and show results\n"
      ]
    },
    {
      "cell_type": "code",
      "execution_count": null,
      "metadata": {},
      "outputs": [],
      "source": [
        "print(\"Phase 3 - Comparing\")\n",
        "\n",
        "# Sift keys where bases match\n",
        "alice_key = []\n",
        "bob_key = []\n",
        "match_positions = []\n",
        "for i in range(num_qubits):\n",
        "    if alice_bases[i] == bob_bases[i]:\n",
        "        alice_key.append(alice_bits[i])\n",
        "        bob_key.append(bob_bits[i])\n",
        "        match_positions.append(i)\n",
        "\n",
        "matched = len(match_positions)\n",
        "errors = sum(1 for a, b in zip(alice_key, bob_key) if a != b)\n",
        "qber = (errors / matched) * 100 if matched else 0.0\n",
        "\n",
        "print(\"Matched positions:\", matched)\n",
        "print(\"Alice key:\", alice_key)\n",
        "print(\"Bob key:  \", bob_key)\n",
        "print(f\"QBER: {qber:.2f}%\")\n",
        "\n",
        "if include_eve == 'Y':\n",
        "    print(\"Eve was enabled. Higher QBER indicates eavesdropping.\")\n",
        "else:\n",
        "    print(\"Eve was disabled. Keys should correlate closely (QBER ~ 0%).\")\n"
      ]
    }
  ],
  "metadata": {
    "language_info": {
      "name": "python"
    }
  },
  "nbformat": 4,
  "nbformat_minor": 2
}
