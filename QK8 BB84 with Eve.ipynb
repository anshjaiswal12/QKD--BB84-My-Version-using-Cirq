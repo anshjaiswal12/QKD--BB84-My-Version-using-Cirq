{
 "cells": [
  {
   "cell_type": "markdown",
   "id": "b35be958",
   "metadata": {},
   "source": [
    "QKD - BB84 with Eve\n"
   ]
  },
  {
   "cell_type": "code",
   "execution_count": 1,
   "id": "78e0fb0b",
   "metadata": {},
   "outputs": [
    {
     "name": "stdout",
     "output_type": "stream",
     "text": [
      "Note: you may need to restart the kernel to use updated packages.\n"
     ]
    }
   ],
   "source": [
    "%pip install cirq --quiet\n",
    "import random\n",
    "import cirq\n"
   ]
  },
  {
   "cell_type": "markdown",
   "id": "be887e33",
   "metadata": {},
   "source": [
    "Phase 1 - Sending\n"
   ]
  },
  {
   "cell_type": "code",
   "execution_count": 2,
   "id": "0f7685e4",
   "metadata": {},
   "outputs": [
    {
     "name": "stdout",
     "output_type": "stream",
     "text": [
      "Phase 1 - Sending\n",
      "Alice bits: [1, 0, 1, 0, 1]\n",
      "Alice bases: ['D', 'R', 'D', 'R', 'D']\n"
     ]
    }
   ],
   "source": [
    "print(\"Phase 1 - Sending\")\n",
    "\n",
    "no_of_qubits = int(input(\"Enter the no of Qubits: \"))\n",
    "alice_qubits = []\n",
    "for _ in range(no_of_qubits):\n",
    "    b = int(input(\"Enter every Qubit (0 or 1): \"))\n",
    "    if b in (0, 1):\n",
    "        alice_qubits.append(b)\n",
    "    else:\n",
    "        raise ValueError(\"Only 0 or 1 allowed.\")\n",
    "\n",
    "print(\"Alice bits:\", alice_qubits)\n",
    "\n",
    "alice_basis = []\n",
    "for _ in range(no_of_qubits):\n",
    "    bb = input(\"Enter Alice basis (R or D): \").upper()\n",
    "    if bb in (\"R\", \"D\"):\n",
    "        alice_basis.append(bb)\n",
    "    else:\n",
    "        raise ValueError(\"Only R or D allowed.\")\n",
    "\n",
    "print(\"Alice bases:\", alice_basis)\n",
    "\n",
    "# Build qubits and Alice's circuit\n",
    "qubits = [cirq.LineQubit(i) for i in range(no_of_qubits)]\n",
    "circuit = cirq.Circuit()\n",
    "\n",
    "# Bit preparation: 1 -> X\n",
    "for i in range(no_of_qubits):\n",
    "    if alice_qubits[i] == 1:\n",
    "        circuit.append(cirq.X(qubits[i]))\n",
    "\n",
    "# Basis: R -> no-op, D -> H\n",
    "for i in range(no_of_qubits):\n",
    "    if alice_basis[i] == \"D\":\n",
    "        circuit.append(cirq.H(qubits[i]))\n"
   ]
  },
  {
   "cell_type": "code",
   "execution_count": 3,
   "id": "0bb9ba7b",
   "metadata": {},
   "outputs": [
    {
     "name": "stdout",
     "output_type": "stream",
     "text": [
      "Eve bases: ['R', 'D', 'D', 'R', 'R']\n"
     ]
    }
   ],
   "source": [
    "include_eve = input(\"Include Eve? (Y/N): \").strip().upper()\n",
    "threshold_percent = float(input(\"Enter QBER threshold in percent (e.g., 11): \"))\n",
    "\n",
    "if include_eve == \"Y\":\n",
    "    eve_basis = []\n",
    "    for i in range(no_of_qubits):\n",
    "        b = random.choice([\"R\", \"D\"])  # Eve random basis\n",
    "        eve_basis.append(b)\n",
    "        if b == \"D\":\n",
    "            circuit.append(cirq.H(qubits[i]))\n",
    "        circuit.append(cirq.measure(qubits[i], key=f\"e{i}\"))  # Eve measures\n",
    "        if b == \"D\":\n",
    "            circuit.append(cirq.H(qubits[i]))  # Re-send in D basis\n",
    "    print(\"Eve bases:\", eve_basis)\n",
    "else:\n",
    "    print(\"No Eve.\")\n"
   ]
  },
  {
   "cell_type": "markdown",
   "id": "1d38936b",
   "metadata": {},
   "source": [
    "Phase 2 - Receiving\n"
   ]
  },
  {
   "cell_type": "code",
   "execution_count": 4,
   "id": "36ac82b2",
   "metadata": {},
   "outputs": [
    {
     "name": "stdout",
     "output_type": "stream",
     "text": [
      "Phase 2 - Receiving\n",
      "Bob bases: ['D', 'D', 'D', 'D', 'D']\n",
      "Bob bits: [0, 0, 1, 0, 0]\n"
     ]
    }
   ],
   "source": [
    "print(\"Phase 2 - Receiving\")\n",
    "\n",
    "bob_basis = []\n",
    "for _ in range(no_of_qubits):\n",
    "    bb = input(\"Enter Bob basis (R or D): \").upper()\n",
    "    if bb in (\"R\", \"D\"):\n",
    "        bob_basis.append(bb)\n",
    "    else:\n",
    "        raise ValueError(\"Only R or D allowed.\")\n",
    "\n",
    "# Bob rotation to Z: R -> no-op, D -> H\n",
    "for i in range(no_of_qubits):\n",
    "    if bob_basis[i] == \"D\":\n",
    "        circuit.append(cirq.H(qubits[i]))\n",
    "\n",
    "# Measure by Bob\n",
    "circuit.append(cirq.measure(*qubits, key=\"bob\"))\n",
    "\n",
    "sim = cirq.Simulator()\n",
    "res = sim.run(circuit, repetitions=1)\n",
    "bob_bits = [int(res.measurements[\"bob\"][0][i]) for i in range(no_of_qubits)]\n",
    "\n",
    "print(\"Bob bases:\", bob_basis)\n",
    "print(\"Bob bits:\", bob_bits)\n"
   ]
  },
  {
   "cell_type": "markdown",
   "id": "9297dba4",
   "metadata": {},
   "source": [
    "Phase 3 - Comparison and Eve detection\n"
   ]
  },
  {
   "cell_type": "code",
   "execution_count": 5,
   "id": "76b8676e",
   "metadata": {},
   "outputs": [
    {
     "name": "stdout",
     "output_type": "stream",
     "text": [
      "Matched: 3\n",
      "Alice key: [1, 1, 1]\n",
      "Bob key:   [0, 1, 0]\n",
      "QBER: 66.67%  |  Threshold: 11.00%\n",
      "Eve Detected\n"
     ]
    }
   ],
   "source": [
    "\n",
    "alice_key, bob_key = [], []\n",
    "for i in range(no_of_qubits):\n",
    "    if alice_basis[i] == bob_basis[i]:\n",
    "        alice_key.append(alice_qubits[i])\n",
    "        bob_key.append(bob_bits[i])\n",
    "\n",
    "matched = len(alice_key)\n",
    "errors = sum(1 for a, b in zip(alice_key, bob_key) if a != b)\n",
    "qber = (errors / matched) * 100 if matched else 0.0\n",
    "\n",
    "print(\"Matched:\", matched)\n",
    "print(\"Alice key:\", alice_key)\n",
    "print(\"Bob key:  \", bob_key)\n",
    "print(f\"QBER: {qber:.2f}%  |  Threshold: {threshold_percent:.2f}%\")\n",
    "\n",
    "if qber > threshold_percent:\n",
    "    print(\"Eve Detected\")\n",
    "else:\n",
    "    print(\"No Eve Detected\")\n"
   ]
  }
 ],
 "metadata": {
  "kernelspec": {
   "display_name": "base",
   "language": "python",
   "name": "python3"
  },
  "language_info": {
   "codemirror_mode": {
    "name": "ipython",
    "version": 3
   },
   "file_extension": ".py",
   "mimetype": "text/x-python",
   "name": "python",
   "nbconvert_exporter": "python",
   "pygments_lexer": "ipython3",
   "version": "3.12.7"
  }
 },
 "nbformat": 4,
 "nbformat_minor": 5
}
